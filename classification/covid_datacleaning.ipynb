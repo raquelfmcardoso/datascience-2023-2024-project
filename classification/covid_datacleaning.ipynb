{
 "cells": [
  {
   "cell_type": "code",
   "execution_count": null,
   "metadata": {},
   "outputs": [],
   "source": [
    "from pandas import read_csv, DataFrame\n",
    "from numpy import ndarray\n",
    "from matplotlib.pyplot import figure, show, savefig\n",
    "from sklearn.model_selection import train_test_split\n",
    "\n",
    "from dslab_functions import get_variable_types, naive_Bayes_study, knn_study, CLASS_EVAL_METRICS, plot_multibar_chart\n",
    "\n",
    "def evaluate_approach(\n",
    "    train: DataFrame, test: DataFrame, target: str = \"class\", metric: str = \"accuracy\"\n",
    ") -> dict[str, list]:\n",
    "    trnY = train.pop(target).values\n",
    "    trnX: ndarray = train.values\n",
    "    tstY = test.pop(target).values\n",
    "    tstX: ndarray = test.values\n",
    "    eval: dict[str, list] = {}\n",
    "\n",
    "    eval_NB: dict[str, float] = naive_Bayes_study(trnX, trnY, tstX, tstY, metric=metric)\n",
    "    eval_KNN: dict[str, float] = knn_study(trnX, trnY, tstX, tstY, metric=metric)\n",
    "    if eval_NB != {} and eval_KNN != {}:\n",
    "        for met in CLASS_EVAL_METRICS:\n",
    "            eval[met] = [eval_NB[met], eval_KNN[met]]\n",
    "    return eval"
   ]
  },
  {
   "cell_type": "code",
   "execution_count": null,
   "metadata": {},
   "outputs": [],
   "source": [
    "# read file\n",
    "filename = \"class_pos_covid.csv\"\n",
    "file_tag = \"class_pos_covid\"\n",
    "data : DataFrame = read_csv('class_pos_covid.csv')\n",
    "data.head()"
   ]
  },
  {
   "cell_type": "markdown",
   "metadata": {},
   "source": [
    "# VARIABLE ENCODING"
   ]
  },
  {
   "cell_type": "markdown",
   "metadata": {},
   "source": [
    "- ID: drop\n",
    "- Binary vars: ole              \n",
    "- State: ole (oebt?)          \n",
    "- State: ole\t\t\t\n",
    "- GeneralHealth: ole\t\t\t\t\t\t\n",
    "- LastCheckUpTime: ole\t\t\t\t\t\n",
    "- SmokerStatus:\tole\t\t\t\t\t\n",
    "- ECigaretteUsage: ole\t\t\t\t\t\n",
    "- RaceEthnicityCategory: ole\t\t\t\t\t\t\n",
    "- AgeCategory: ole\t\t\t\n",
    "- TetanusLast10Tdap: ole\n",
    "\n",
    "haddiabetes and removedteeth missing from forms!"
   ]
  },
  {
   "cell_type": "code",
   "execution_count": null,
   "metadata": {},
   "outputs": [],
   "source": [
    "vars: dict[str, list] = get_variable_types(data)"
   ]
  },
  {
   "cell_type": "markdown",
   "metadata": {},
   "source": [
    "### BINARY"
   ]
  },
  {
   "cell_type": "code",
   "execution_count": null,
   "metadata": {},
   "outputs": [],
   "source": [
    "# encode binary\n",
    "yes_no: dict[str, int] = {\"no\": 0, \"No\": 0, \"yes\": 1, \"Yes\": 1}\n",
    "fem_male: dict[str, int] = {\"female\": 0, \"Female\": 0, \"male\": 1, \"Male\": 1}\n",
    "\n",
    "encoding: dict[str, dict[str, int]] = {\n",
    "    \"CovidPos\": yes_no,\n",
    "    \"PhysicalActivities\": yes_no,\n",
    "    \"HadHeartAttack\": yes_no,\n",
    "    \"HadAngina\": yes_no,\n",
    "    \"HadStroke\": yes_no,\n",
    "    \"HadAsthma\": yes_no,\n",
    "    \"HadSkinCancer\": yes_no,\n",
    "    \"HadCOPD\": yes_no,\n",
    "    \"HadDepressiveDisorder\": yes_no,\n",
    "    \"HadKidneyDisease\": yes_no,\n",
    "    \"HadArthritis\": yes_no,\n",
    "    \"DeafOrHardOfHearing\": yes_no,\n",
    "    \"BlindOrVisionDifficulty\": yes_no,\n",
    "    \"DifficultyConcentrating\": yes_no,\n",
    "    \"DifficultyWalking\": yes_no,\n",
    "    \"DifficultyDressingBathing\": yes_no,\n",
    "    \"DifficultyErrands\": yes_no,\n",
    "    \"ChestScan\": yes_no,\n",
    "    \"AlcoholDrinkers\": yes_no,\n",
    "    \"HIVTesting\": yes_no,\n",
    "    \"FluVaxLast12\": yes_no,\n",
    "    \"PneumoVaxEver\": yes_no,\n",
    "    \"HighRiskLastYear\": yes_no,\n",
    "    \"Sex\": fem_male,\n",
    "}"
   ]
  },
  {
   "cell_type": "markdown",
   "metadata": {},
   "source": [
    "### SYMBOLIC"
   ]
  },
  {
   "cell_type": "code",
   "execution_count": null,
   "metadata": {},
   "outputs": [],
   "source": [
    "for v in vars[\"symbolic\"]:\n",
    "    print(v, data[v].unique())"
   ]
  },
  {
   "cell_type": "code",
   "execution_count": null,
   "metadata": {},
   "outputs": [],
   "source": [
    "#encode symbolic\n",
    "state_gdp: dict[str, float] = {\n",
    "    'Alabama': 54.753,\n",
    "    'Alaska': 86.722,\n",
    "    'Arizona': 62.365,\n",
    "    'Arkansas': 54.259,\n",
    "    'California': 92.190,\n",
    "    'Colorado': 82.954,\n",
    "    'Connecticut': 88.760,\n",
    "    'Delaware': 85.977,\n",
    "    'District of Columbia': 242.853,\n",
    "    'Florida': 62.446,\n",
    "    'Georgia': 69.253,\n",
    "    'Hawaii': 68.207,\n",
    "    'Idaho': 56.496,\n",
    "    'Illinois': 82.126,\n",
    "    'Indiana': 66.698,\n",
    "    'Iowa': 72.221,\n",
    "    'Kansas': 71.729,\n",
    "    'Kentucky': 57.653,\n",
    "    'Louisiana': 61.313,\n",
    "    'Maine': 61.008,\n",
    "    'Maryland': 76.279,\n",
    "    'Massachusetts': 98.609,\n",
    "    'Michigan': 61.859,\n",
    "    'Minnesota': 78.100,\n",
    "    'Mississippi': 47.190,\n",
    "    'Missouri': 63.126,\n",
    "    'Montana': 57.945,\n",
    "    'Nebraska': 82.207,\n",
    "    'Nevada': 67.962,\n",
    "    'New Hampshire': 75.565,\n",
    "    'New Jersey': 80.490,\n",
    "    'New Mexico': 57.792,\n",
    "    'New York': 104.344,\n",
    "    'North Carolina': 68.243,\n",
    "    'North Dakota': 94.021,\n",
    "    'Ohio': 69.978,\n",
    "    'Oklahoma': 59.894,\n",
    "    'Oregon': 70.548,\n",
    "    'Pennsylvania': 71.160,\n",
    "    'Rhode Island': 65.362,\n",
    "    'South Carolina': 56.066,\n",
    "    'South Dakota': 74.268,\n",
    "    'Tennessee': 67.473,\n",
    "    'Texas': 78.456,\n",
    "    'Utah': 73.424,\n",
    "    'Vermont': 62.771,\n",
    "    'Virginia': 74.789,\n",
    "    'Washington': 93.193,\n",
    "    'West Virginia': 53.852,\n",
    "    'Wisconsin': 68.192,\n",
    "    'Wyoming': 81.586,\n",
    "    'Guam': 34.624,\n",
    "    'Puerto Rico': 31.429,\n",
    "    'Virgin Islands': 39.552\n",
    "}\n",
    "encoding[\"State\"] = state_gdp\n",
    "\n",
    "def apply_encoding(df: DataFrame):\n",
    "    df['GeneralHealth'] = df.apply(lambda x: 1 if x[\"GeneralHealth\"] == \"Poor\"\n",
    "                               else 2 if x[\"GeneralHealth\"] == \"Fair\"\n",
    "                               else 3 if x[\"GeneralHealth\"] == \"Good\"\n",
    "                               else 4 if x[\"GeneralHealth\"] == \"Very good\"\n",
    "                               else 5 if x[\"GeneralHealth\"] == \"Excellent\"\n",
    "                               else None, axis=1)\n",
    "\n",
    "    df['LastCheckupTime'] = df.apply(lambda x: 0.1 if x[\"LastCheckupTime\"] == \"Within past year (anytime less than 12 months ago)\"\n",
    "                                else 1.2 if x[\"LastCheckupTime\"] == \"Within past 2 years (1 year but less than 2 years ago)\"\n",
    "                                else 2.5 if x[\"LastCheckupTime\"] == \"Within past 5 years (2 years but less than 5 years ago)\"\n",
    "                                else 5 if x[\"LastCheckupTime\"] == \"5 or more years ago\"\n",
    "                                else None, axis=1)\n",
    "\n",
    "    df['RemovedTeeth'] = df.apply(lambda x: 0 if x[\"RemovedTeeth\"] == \"None of them\"\n",
    "                                else 1.5 if x[\"RemovedTeeth\"] == \"1 to 5\"\n",
    "                                else 6.32 if x[\"RemovedTeeth\"] == \"6 or more, but not all\"\n",
    "                                else 32 if x[\"RemovedTeeth\"] == \"All\"\n",
    "                                else None, axis=1)\n",
    "\n",
    "    df['HadDiabetes'] = df.apply(lambda x: 0 if x[\"HadDiabetes\"] == \"No\"\n",
    "                                else 1 if x[\"HadDiabetes\"] == \"No, pre-diabetes or borderline diabetes\"\n",
    "                                else 2 if x[\"HadDiabetes\"] == \"Yes, but only during pregnancy (female)\"\n",
    "                                else 3 if x[\"HadDiabetes\"] == \"Yes\"\n",
    "                                else None, axis=1)\n",
    "\n",
    "    df['SmokerStatus'] = df.apply(lambda x: 0 if x[\"SmokerStatus\"] == \"Never smoked\"\n",
    "                                else 1 if x[\"SmokerStatus\"] == \"Former smoker\"\n",
    "                                else 2 if x[\"SmokerStatus\"] == \"Current smoker - now smokes some days\"\n",
    "                                else 3 if x[\"SmokerStatus\"] == \"Current smoker - now smokes every day\"\n",
    "                                else None, axis=1)\n",
    "\n",
    "    df['ECigaretteUsage'] = df.apply(lambda x: 0 if x[\"ECigaretteUsage\"] == \"Never used e-cigarettes in my entire life\"\n",
    "                                else 1 if x[\"ECigaretteUsage\"] == \"Not at all (right now)\"\n",
    "                                else 2 if x[\"ECigaretteUsage\"] == \"Use them some days\"\n",
    "                                else 3 if x[\"ECigaretteUsage\"] == \"Use them every day\"\n",
    "                                else None, axis=1)\n",
    "\n",
    "    df['RaceEthnicityCategory'] = df.apply(lambda x: 0 if x[\"RaceEthnicityCategory\"] == \"Hispanic\"\n",
    "                                else 1 if x[\"RaceEthnicityCategory\"] == \"White only, Non-Hispanic\"\n",
    "                                else 2 if x[\"RaceEthnicityCategory\"] == \"Black only, Non-Hispanic\"\n",
    "                                else 3 if x[\"RaceEthnicityCategory\"] == \"Multiracial, Non-Hispanic\"\n",
    "                                else 4 if x[\"RaceEthnicityCategory\"] == \"Other race only, Non-Hispanic\"\n",
    "                                else None, axis=1)\n",
    "\n",
    "    df['AgeCategory'] = df.apply(lambda x: 18.24 if x[\"AgeCategory\"] == \"Age 18 to 24\"\n",
    "                                else 25.29 if x[\"AgeCategory\"] == \"Age 25 to 29\"\n",
    "                                else 30.34 if x[\"AgeCategory\"] == \"Age 30 to 34\"\n",
    "                                else 35.39 if x[\"AgeCategory\"] == \"Age 35 to 39\"\n",
    "                                else 40.44 if x[\"AgeCategory\"] == \"Age 40 to 44\"\n",
    "                                else 45.49 if x[\"AgeCategory\"] == \"Age 45 to 49\"\n",
    "                                else 50.54 if x[\"AgeCategory\"] == \"Age 50 to 54\"\n",
    "                                else 55.59 if x[\"AgeCategory\"] == \"Age 55 to 59\"\n",
    "                                else 60.64 if x[\"AgeCategory\"] == \"Age 60 to 64\"\n",
    "                                else 65.69 if x[\"AgeCategory\"] == \"Age 65 to 69\"\n",
    "                                else 70.74 if x[\"AgeCategory\"] == \"Age 70 to 74\"\n",
    "                                else 75.79 if x[\"AgeCategory\"] == \"Age 75 to 79\"\n",
    "                                else 80 if x[\"AgeCategory\"] == \"Age 80 or older\"\n",
    "                                else None, axis=1)\n",
    "\n",
    "    df['TetanusLast10Tdap'] = df.apply(lambda x: 0 if x[\"TetanusLast10Tdap\"] == \"No, did not receive any tetanus shot in the past 10 years\"\n",
    "                                else 1 if x[\"TetanusLast10Tdap\"] == \"Yes, received tetanus shot but not sure what type\"\n",
    "                                else 2 if x[\"TetanusLast10Tdap\"] == \"Yes, received tetanus shot, but not Tdap\"\n",
    "                                else 3 if x[\"TetanusLast10Tdap\"] == \"Yes, received Tdap\"\n",
    "                                else None, axis=1)"
   ]
  },
  {
   "cell_type": "code",
   "execution_count": null,
   "metadata": {},
   "outputs": [],
   "source": [
    "# apply encoding\n",
    "df: DataFrame = data.replace(encoding, inplace=False)\n",
    "apply_encoding(df)\n",
    "df"
   ]
  },
  {
   "cell_type": "markdown",
   "metadata": {},
   "source": [
    "# MISSING VALUES IMPUTATION"
   ]
  },
  {
   "cell_type": "code",
   "execution_count": null,
   "metadata": {},
   "outputs": [],
   "source": [
    "from dslab_functions import mvi_by_dropping, mvi_by_filling\n",
    "from dslab_functions import plot_bar_chart\n",
    "\n",
    "print(f\"Dataset nr records={data.shape[0]}\", f\"nr variables={data.shape[1]}\")\n",
    "\n",
    "mv: dict[str, int] = {}\n",
    "figure()\n",
    "for var in data:\n",
    "    nr: int = data[var].isna().sum()\n",
    "    if nr > 0:\n",
    "        mv[var] = nr\n",
    "\n",
    "plot_bar_chart(\n",
    "    list(mv.keys()),\n",
    "    list(mv.values()),\n",
    "    title=\"Missing values per variable\",\n",
    "    xlabel=\"variables\",\n",
    "    ylabel=\"nr missing values\",\n",
    ")\n",
    "show()"
   ]
  },
  {
   "cell_type": "markdown",
   "metadata": {},
   "source": [
    "### MVI FIRST APPROACH - dropping variables with >10% mv and records with >50% mv then imputing with median"
   ]
  },
  {
   "cell_type": "code",
   "execution_count": null,
   "metadata": {},
   "outputs": [],
   "source": [
    "df: DataFrame = mvi_by_dropping(df, min_pct_per_variable=0.9, min_pct_per_record=0.5)\n",
    "print(df.shape)\n",
    "\n",
    "df: DataFrame = mvi_by_filling(df, strategy=\"frequent\")\n",
    "df.head()"
   ]
  },
  {
   "cell_type": "code",
   "execution_count": null,
   "metadata": {},
   "outputs": [],
   "source": [
    "target = 'CovidPos'\n",
    "X, y = df.loc[:, df.columns != 'CovidPos'], df['CovidPos']\n",
    "Xtrain, Xtest, Ytrain, Ytest = train_test_split(X, y, test_size = 0.33)\n",
    "\n",
    "Xtrain['CovidPos'] = Ytrain\n",
    "Xtest['CovidPos'] = Ytest\n",
    "train, test = Xtrain, Xtest\n",
    "\n",
    "figure()\n",
    "eval: dict[str, list] = evaluate_approach(train, test, target=target, metric=\"recall\")\n",
    "plot_multibar_chart(\n",
    "    [\"NB\", \"KNN\"], eval, title=f\"{file_tag} evaluation\", percentage=True\n",
    ")\n",
    "savefig(f\"images/{file_tag}_eval.png\")\n",
    "show()"
   ]
  },
  {
   "cell_type": "markdown",
   "metadata": {},
   "source": [
    "### MVI SECOND APPROACH - idk"
   ]
  },
  {
   "cell_type": "code",
   "execution_count": null,
   "metadata": {},
   "outputs": [],
   "source": [
    "df: DataFrame = mvi_by_filling(data, strategy=\"frequent\")\n",
    "df.head(10)"
   ]
  },
  {
   "cell_type": "markdown",
   "metadata": {},
   "source": [
    "# OUTLIERS"
   ]
  },
  {
   "cell_type": "markdown",
   "metadata": {},
   "source": [
    "### DROP OUTLIERS"
   ]
  },
  {
   "cell_type": "code",
   "execution_count": null,
   "metadata": {},
   "outputs": [],
   "source": [
    "from pandas import read_csv, DataFrame, Series\n",
    "\n",
    "from dslab_functions import NR_STDEV, get_variable_types, determine_outlier_thresholds_for_var\n",
    "\n",
    "file_tag = \"class_pos_covid\"\n",
    "data : DataFrame = read_csv('class_pos_covid.csv')\n",
    "print(f\"Original data: {data.shape}\")\n",
    "\n",
    "n_std: int = NR_STDEV\n",
    "numeric_vars: list[str] = get_variable_types(data)[\"numeric\"]\n",
    "if numeric_vars is not None:\n",
    "    df: DataFrame = data.copy(deep=True)\n",
    "    summary5: DataFrame = data[numeric_vars].describe()\n",
    "    for var in numeric_vars:\n",
    "        top_threshold, bottom_threshold = determine_outlier_thresholds_for_var(\n",
    "            summary5[var]\n",
    "        )\n",
    "        outliers: Series = df[(df[var] > top_threshold) | (df[var] < bottom_threshold)]\n",
    "        df.drop(outliers.index, axis=0, inplace=True)\n",
    "    df.to_csv(f\"data/{file_tag}_drop_outliers.csv\", index=True)\n",
    "    print(f\"Data after dropping outliers: {df.shape}\")\n",
    "else:\n",
    "    print(\"There are no numeric variables\")"
   ]
  },
  {
   "cell_type": "markdown",
   "metadata": {},
   "source": [
    "### REPLACING OUTLIERS WITH FIXED VALUES"
   ]
  },
  {
   "cell_type": "code",
   "execution_count": null,
   "metadata": {},
   "outputs": [],
   "source": [
    "if [] != numeric_vars:\n",
    "    df: DataFrame = data.copy(deep=True)\n",
    "    for var in numeric_vars:\n",
    "        top, bottom = determine_outlier_thresholds_for_var(summary5[var])\n",
    "        median: float = df[var].median()\n",
    "        df[var] = df[var].apply(lambda x: median if x > top or x < bottom else x)\n",
    "    df.to_csv(f\"data/{file_tag}_replacing_outliers.csv\", index=True)\n",
    "    print(\"Data after replacing outliers:\", df.shape)\n",
    "    print(df.describe())\n",
    "else:\n",
    "    print(\"There are no numeric variables\")"
   ]
  },
  {
   "cell_type": "markdown",
   "metadata": {},
   "source": [
    "### TRUNCATING OUTLIERS"
   ]
  },
  {
   "cell_type": "code",
   "execution_count": null,
   "metadata": {},
   "outputs": [],
   "source": [
    "if [] != numeric_vars:\n",
    "    df: DataFrame = data.copy(deep=True)\n",
    "    for var in numeric_vars:\n",
    "        top, bottom = determine_outlier_thresholds_for_var(summary5[var])\n",
    "        df[var] = df[var].apply(\n",
    "            lambda x: top if x > top else bottom if x < bottom else x\n",
    "        )\n",
    "    df.to_csv(f\"data/{file_tag}_truncate_outliers.csv\", index=True)\n",
    "    print(\"Data after truncating outliers:\", df.shape)\n",
    "    print(df.describe())\n",
    "else:\n",
    "    print(\"There are no numeric variables\")"
   ]
  },
  {
   "cell_type": "markdown",
   "metadata": {},
   "source": [
    "# SCALING"
   ]
  },
  {
   "cell_type": "markdown",
   "metadata": {},
   "source": [
    "### STANDART SCALER (need encoding)"
   ]
  },
  {
   "cell_type": "code",
   "execution_count": null,
   "metadata": {},
   "outputs": [],
   "source": [
    "#doesn't work yet\n",
    "from pandas import read_csv, DataFrame, Series\n",
    "from sklearn.preprocessing import StandardScaler\n",
    "\n",
    "file = \"class_pos_covid\"\n",
    "data : DataFrame = read_csv('class_pos_covid.csv')\n",
    "\n",
    "target = \"CovidPos\"\n",
    "vars: list[str] = data.columns.to_list()\n",
    "target_data: Series = data.pop(target)\n",
    "\n",
    "transf: StandardScaler = StandardScaler(with_mean=True, with_std=True, copy=True).fit(data)\n",
    "df_zscore = DataFrame(transf.transform(data), index=data.index)\n",
    "df_zscore[target] = target_data\n",
    "df_zscore.columns = vars\n",
    "df_zscore.to_csv(f\"data/{file}_scaled_zscore.csv\", index=True)"
   ]
  },
  {
   "cell_type": "markdown",
   "metadata": {},
   "source": [
    "### MINMAX SCALER"
   ]
  },
  {
   "cell_type": "code",
   "execution_count": null,
   "metadata": {},
   "outputs": [],
   "source": [
    "from sklearn.preprocessing import MinMaxScaler\n",
    "\n",
    "transf: MinMaxScaler = MinMaxScaler(feature_range=(0, 1), copy=True).fit(data)\n",
    "df_minmax = DataFrame(transf.transform(data), index=data.index)\n",
    "df_minmax[target] = target_data\n",
    "df_minmax.columns = vars\n",
    "df_minmax.to_csv(f\"data/{file}_scaled_minmax.csv\", index=True)"
   ]
  },
  {
   "cell_type": "markdown",
   "metadata": {},
   "source": [
    "### COMPARE ORIGINAL TO ZSCORE AND MINMAX"
   ]
  },
  {
   "cell_type": "code",
   "execution_count": null,
   "metadata": {},
   "outputs": [],
   "source": [
    "from matplotlib.pyplot import subplots, show\n",
    "\n",
    "fig, axs = subplots(1, 3, figsize=(20, 10), squeeze=False)\n",
    "axs[0, 1].set_title(\"Original data\")\n",
    "data.boxplot(ax=axs[0, 0])\n",
    "axs[0, 0].set_title(\"Z-score normalization\")\n",
    "df_zscore.boxplot(ax=axs[0, 1])\n",
    "axs[0, 2].set_title(\"MinMax normalization\")\n",
    "df_minmax.boxplot(ax=axs[0, 2])\n",
    "show()"
   ]
  },
  {
   "cell_type": "markdown",
   "metadata": {},
   "source": [
    "# BALANCING"
   ]
  },
  {
   "cell_type": "code",
   "execution_count": null,
   "metadata": {},
   "outputs": [],
   "source": [
    "from pandas import read_csv, concat, DataFrame, Series\n",
    "from matplotlib.pyplot import figure, show\n",
    "from dslab_functions import plot_bar_chart\n",
    "\n",
    "file = \"class_pos_covid\"\n",
    "target = \"CovidPos\"\n",
    "original: DataFrame = read_csv('class_pos_covid.csv')\n",
    "\n",
    "target_count: Series = original[target].value_counts()\n",
    "positive_class = target_count.idxmin()\n",
    "negative_class = target_count.idxmax()\n",
    "\n",
    "print(\"Minority class=\", positive_class, \":\", target_count[positive_class])\n",
    "print(\"Majority class=\", negative_class, \":\", target_count[negative_class])\n",
    "print(\n",
    "    \"Proportion:\",\n",
    "    round(target_count[positive_class] / target_count[negative_class], 2),\n",
    "    \": 1\",\n",
    ")\n",
    "values: dict[str, list] = {\n",
    "    \"Original\": [target_count[positive_class], target_count[negative_class]]\n",
    "}\n",
    "\n",
    "figure()\n",
    "plot_bar_chart(target_count.index.to_list(), target_count.to_list(), title=\"Class balance\")\n",
    "show()"
   ]
  },
  {
   "cell_type": "code",
   "execution_count": null,
   "metadata": {},
   "outputs": [],
   "source": [
    "df_positives: Series = original[original[target] == positive_class]\n",
    "df_negatives: Series = original[original[target] == negative_class]"
   ]
  },
  {
   "cell_type": "code",
   "execution_count": null,
   "metadata": {},
   "outputs": [],
   "source": [
    "df_neg_sample: DataFrame = DataFrame(df_negatives.sample(len(df_positives)))\n",
    "df_under: DataFrame = concat([df_positives, df_neg_sample], axis=0)\n",
    "df_under.to_csv(f\"data/{file}_under.csv\", index=False)\n",
    "\n",
    "print(\"Minority class=\", positive_class, \":\", len(df_positives))\n",
    "print(\"Majority class=\", negative_class, \":\", len(df_neg_sample))\n",
    "print(\"Proportion:\", round(len(df_positives) / len(df_neg_sample), 2), \": 1\")"
   ]
  },
  {
   "cell_type": "markdown",
   "metadata": {},
   "source": [
    "### SMOTE (need encoding first)"
   ]
  },
  {
   "cell_type": "code",
   "execution_count": null,
   "metadata": {},
   "outputs": [],
   "source": [
    "from numpy import ndarray\n",
    "from pandas import Series\n",
    "from imblearn.over_sampling import SMOTE\n",
    "\n",
    "RANDOM_STATE = 42\n",
    "\n",
    "smote: SMOTE = SMOTE(sampling_strategy=\"minority\", random_state=RANDOM_STATE)\n",
    "y = original.pop(target).values\n",
    "X: ndarray = original.values\n",
    "smote_X, smote_y = smote.fit_resample(X, y)\n",
    "df_smote: DataFrame = concat([DataFrame(smote_X), DataFrame(smote_y)], axis=1)\n",
    "df_smote.columns = list(original.columns) + [target]\n",
    "df_smote.to_csv(f\"data/{file}_smote.csv\", index=False)\n",
    "\n",
    "smote_target_count: Series = Series(smote_y).value_counts()\n",
    "print(\"Minority class=\", positive_class, \":\", smote_target_count[positive_class])\n",
    "print(\"Majority class=\", negative_class, \":\", smote_target_count[negative_class])\n",
    "print(\n",
    "    \"Proportion:\",\n",
    "    round(smote_target_count[positive_class] / smote_target_count[negative_class], 2),\n",
    "    \": 1\",\n",
    ")\n",
    "print(df_smote.shape)"
   ]
  }
 ],
 "metadata": {
  "kernelspec": {
   "display_name": "Python 3",
   "language": "python",
   "name": "python3"
  },
  "language_info": {
   "codemirror_mode": {
    "name": "ipython",
    "version": 3
   },
   "file_extension": ".py",
   "mimetype": "text/x-python",
   "name": "python",
   "nbconvert_exporter": "python",
   "pygments_lexer": "ipython3",
   "version": "3.11.4"
  }
 },
 "nbformat": 4,
 "nbformat_minor": 2
}
