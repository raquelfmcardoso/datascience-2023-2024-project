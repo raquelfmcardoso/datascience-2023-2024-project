{
 "cells": [
  {
   "cell_type": "code",
   "execution_count": null,
   "metadata": {},
   "outputs": [],
   "source": [
    "from numpy import ndarray, log\n",
    "from pandas import read_csv, DataFrame, Series, concat, get_dummies\n",
    "from scipy.stats import norm, expon, lognorm\n",
    "from seaborn import heatmap, pairplot\n",
    "\n",
    "import matplotlib.pyplot as plt\n",
    "from matplotlib.axes import Axes\n",
    "from matplotlib.figure import Figure\n",
    "from matplotlib.pyplot import figure, savefig, show, subplots\n",
    "\n",
    "from sklearn.preprocessing import OneHotEncoder\n",
    "\n",
    "from dslab_functions import plot_multiline_chart, plot_multi_scatters_chart, plot_bar_chart, plot_multibar_chart, set_chart_labels, get_variable_types, define_grid, HEIGHT, encode_cyclic_variables, dummify, determine_outlier_thresholds_for_var, count_outliers\n",
    "\n",
    "# read file\n",
    "filename = \"class_credit_score.csv\"\n",
    "file_tag = \"class_credit_score\"\n",
    "df : DataFrame = read_csv('class_credit_score.csv')\n",
    "\n",
    "#df"
   ]
  },
  {
   "cell_type": "markdown",
   "metadata": {},
   "source": [
    "## Data Dimensionality"
   ]
  },
  {
   "cell_type": "code",
   "execution_count": null,
   "metadata": {},
   "outputs": [],
   "source": [
    "figure(figsize=(4, 2))\n",
    "\n",
    "values: dict[str, int] = {\"nr records\": df.shape[0], \"nr variables\": df.shape[1]}\n",
    "\n",
    "plot_bar_chart(list(values.keys()), list(values.values()), title=\"Nr of records vs nr of variables\")\n",
    "savefig(f\"images/{file_tag}_records_variables.png\", bbox_inches = \"tight\")\n",
    "show()"
   ]
  },
  {
   "cell_type": "code",
   "execution_count": null,
   "metadata": {},
   "outputs": [],
   "source": [
    "# description\n",
    "df.describe(include=\"all\")"
   ]
  },
  {
   "cell_type": "markdown",
   "metadata": {},
   "source": [
    "### SHAPE"
   ]
  },
  {
   "cell_type": "code",
   "execution_count": null,
   "metadata": {},
   "outputs": [],
   "source": [
    "# shape (Nr records x Nr variables)\n",
    "\n",
    "print(\"Nr of records: \", len(df))\n",
    "print(\"Dimensionality: \", df.shape)"
   ]
  },
  {
   "cell_type": "markdown",
   "metadata": {},
   "source": [
    "### VARIABLE TYPES"
   ]
  },
  {
   "cell_type": "code",
   "execution_count": null,
   "metadata": {},
   "outputs": [],
   "source": [
    "variable_types: dict[str, list] = get_variable_types(df)\n",
    "print(variable_types)\n",
    "counts: dict[str, int] = {}\n",
    "for tp in variable_types.keys():\n",
    "    counts[tp] = len(variable_types[tp])\n",
    "\n",
    "figure(figsize=(4, 2))\n",
    "plot_bar_chart(\n",
    "    list(counts.keys()), list(counts.values()), title=\"Nr of variables per type\"\n",
    ")\n",
    "savefig(f\"images/{file_tag}_variable_types.png\", bbox_inches = \"tight\")\n",
    "show()"
   ]
  },
  {
   "cell_type": "code",
   "execution_count": null,
   "metadata": {},
   "outputs": [],
   "source": [
    "symbolic: list[str] = variable_types[\"symbolic\"]\n",
    "df[symbolic] = df[symbolic].apply(lambda x: x.astype(\"category\"))\n",
    "df.dtypes"
   ]
  },
  {
   "cell_type": "markdown",
   "metadata": {},
   "source": [
    "### MISSING VALUES"
   ]
  },
  {
   "cell_type": "code",
   "execution_count": null,
   "metadata": {},
   "outputs": [],
   "source": [
    "mv: dict[str, int] = {}\n",
    "for var in df.columns:\n",
    "    nr: int = df[var].isna().sum()\n",
    "    if nr > 0:\n",
    "        mv[var] = nr\n",
    "\n",
    "figure(figsize = (10, 5))\n",
    "plot_bar_chart(\n",
    "    list(mv.keys()),\n",
    "    list(mv.values()),\n",
    "    title=\"Nr of missing values per variable\",\n",
    "    xlabel=\"variables\",\n",
    "    ylabel=\"nr missing values\",\n",
    ")\n",
    "savefig(f\"images/{file_tag}_mv.png\", bbox_inches = \"tight\")\n",
    "show()"
   ]
  },
  {
   "cell_type": "markdown",
   "metadata": {},
   "source": [
    "## Data Granularity"
   ]
  },
  {
   "cell_type": "code",
   "execution_count": null,
   "metadata": {},
   "outputs": [],
   "source": [
    "#data granularity -> symbolic variables\n",
    "\n",
    "def analyse_property_granularity(\n",
    "    data: DataFrame, property: str, vars: list[str]\n",
    ") -> ndarray:\n",
    "    cols: int = len(vars)\n",
    "    fig: Figure\n",
    "    axs: ndarray\n",
    "    fig, axs = subplots(1, cols, figsize=(cols * HEIGHT * 4, HEIGHT), squeeze=False)\n",
    "    fig.suptitle(f\"Granularity study for {property}\")\n",
    "    for i in range(cols):\n",
    "        counts: Series[int] = data[vars[i]].value_counts()\n",
    "        plot_bar_chart(\n",
    "            counts.index.to_list(),\n",
    "            counts.to_list(),\n",
    "            ax=axs[0, i],\n",
    "            title=vars[i],\n",
    "            xlabel=vars[i],\n",
    "            ylabel=\"nr records\",\n",
    "            percentage=False,\n",
    "        )\n",
    "    return axs\n",
    "\n",
    "prop1 = \"credit\"\n",
    "prop2 = \"payment\"\n",
    "analyse_property_granularity(df, prop1, [\"CreditMix\", \"Credit_History_Age\"])\n",
    "savefig(f\"images/{file_tag}_granularity_{prop1}.png\", bbox_inches = \"tight\")\n",
    "analyse_property_granularity(df, prop2, [\"Payment_of_Min_Amount\", \"Payment_Behaviour\"])\n",
    "savefig(f\"images/{file_tag}_granularity_{prop2}.png\", bbox_inches = \"tight\")\n",
    "show()"
   ]
  },
  {
   "cell_type": "markdown",
   "metadata": {},
   "source": [
    "## Data Distribution"
   ]
  },
  {
   "cell_type": "code",
   "execution_count": null,
   "metadata": {},
   "outputs": [],
   "source": [
    "# global boxplot\n",
    "variables_types: dict[str, list] = get_variable_types(df)\n",
    "numeric: list[str] = variables_types[\"numeric\"]\n",
    "if [] != numeric:\n",
    "    df[numeric].boxplot(rot=90)\n",
    "    savefig(f\"images/{file_tag}_global_boxplot.png\", bbox_inches = \"tight\")\n",
    "    show()\n",
    "else:\n",
    "    print(\"There are no numeric variables.\")"
   ]
  },
  {
   "cell_type": "code",
   "execution_count": null,
   "metadata": {},
   "outputs": [],
   "source": [
    "# boxplots for individual numeric vars\n",
    "if [] != numeric:\n",
    "    rows: int\n",
    "    cols: int\n",
    "    rows, cols = define_grid(len(numeric))\n",
    "    fig: Figure\n",
    "    axs: ndarray\n",
    "    fig, axs = subplots(\n",
    "        rows, cols, figsize=(cols * HEIGHT, rows * HEIGHT), squeeze=False\n",
    "    )\n",
    "    i, j = 0, 0\n",
    "    for n in range(len(numeric)):\n",
    "        axs[i, j].set_title(\"Boxplot for %s\" % numeric[n])\n",
    "        axs[i, j].boxplot(df[numeric[n]].dropna().values)\n",
    "        i, j = (i + 1, 0) if (n + 1) % cols == 0 else (i, j + 1)\n",
    "    savefig(f\"images/{file_tag}_single_boxplots.png\")\n",
    "    show()\n",
    "else:\n",
    "    print(\"There are no numeric variables.\")"
   ]
  },
  {
   "cell_type": "code",
   "execution_count": null,
   "metadata": {},
   "outputs": [],
   "source": [
    "if [] != numeric:\n",
    "    outliers: dict[str, int] = count_outliers(df, numeric)\n",
    "    figure(figsize=(20, HEIGHT))\n",
    "    plot_multibar_chart(\n",
    "        numeric,\n",
    "        outliers,\n",
    "        title=\"Nr of standard outliers per variable\",\n",
    "        xlabel=\"variables\",\n",
    "        ylabel=\"nr outliers\",\n",
    "        percentage=False,\n",
    "    )\n",
    "    \n",
    "    savefig(f\"images/{file_tag}_outliers_standard.png\")\n",
    "    show()\n",
    "else:\n",
    "    print(\"There are no numeric variables.\")"
   ]
  },
  {
   "cell_type": "code",
   "execution_count": null,
   "metadata": {},
   "outputs": [],
   "source": [
    "if [] != numeric:\n",
    "    outliers: dict[str, int] = count_outliers(df, numeric, nrstdev=4, iqrfactor=4.5)\n",
    "    figure(figsize=(20, HEIGHT))\n",
    "    plot_multibar_chart(\n",
    "        numeric,\n",
    "        outliers,\n",
    "        title=\"Nr of outliers per variable\",\n",
    "        xlabel=\"variables\",\n",
    "        ylabel=\"nr outliers\",\n",
    "        percentage=False,\n",
    "    )\n",
    "    savefig(f\"images/{file_tag}_outliers.png\")\n",
    "    show()\n",
    "else:\n",
    "    print(\"There are no numeric variables.\")"
   ]
  },
  {
   "cell_type": "code",
   "execution_count": 7,
   "metadata": {},
   "outputs": [],
   "source": [
    "# histograms for numeric\n",
    "if [] != numeric:\n",
    "    fig, axs = subplots(\n",
    "        rows, cols, figsize=(cols * HEIGHT, rows * HEIGHT), squeeze=False\n",
    "    )\n",
    "    i: int\n",
    "    j: int\n",
    "    i, j = 0, 0\n",
    "    for n in range(len(numeric)):\n",
    "        set_chart_labels(\n",
    "            axs[i, j],\n",
    "            title=f\"Histogram for {numeric[n]}\",\n",
    "            xlabel=numeric[n],\n",
    "            ylabel=\"nr records\",\n",
    "        )\n",
    "        axs[i, j].hist(df[numeric[n]].dropna().values, \"auto\")\n",
    "        i, j = (i + 1, 0) if (n + 1) % cols == 0 else (i, j + 1)\n",
    "    savefig(f\"images/{file_tag}_single_histograms_numeric.png\")\n",
    "    show()\n",
    "else:\n",
    "    print(\"There are no numeric variables.\")\n",
    "    \n",
    "# ValueError: Maximum allowed size exceeded"
   ]
  },
  {
   "cell_type": "code",
   "execution_count": null,
   "metadata": {},
   "outputs": [],
   "source": [
    "# distributions for numeric"
   ]
  },
  {
   "cell_type": "code",
   "execution_count": null,
   "metadata": {},
   "outputs": [],
   "source": [
    "#histograms for symbolic\n",
    "\n",
    "variables_types: dict[str, list] = get_variable_types(df)\n",
    "symbolic: list[str] = variables_types[\"symbolic\"] + variables_types[\"binary\"]\n",
    "if [] != symbolic:\n",
    "    rows, cols = define_grid(len(symbolic))\n",
    "    fig, axs = subplots(\n",
    "        rows, cols, figsize=(cols * HEIGHT, rows * HEIGHT), squeeze=False\n",
    "    )\n",
    "    i, j = 0, 0\n",
    "    for n in range(len(symbolic)):\n",
    "        counts: Series = df[symbolic[n]].value_counts()\n",
    "        plot_bar_chart(\n",
    "            counts.index.to_list(),\n",
    "            counts.to_list(),\n",
    "            ax=axs[i, j],\n",
    "            title=\"Histogram for %s\" % symbolic[n],\n",
    "            xlabel=symbolic[n],\n",
    "            ylabel=\"nr records\",\n",
    "            percentage=False,\n",
    "        )\n",
    "        i, j = (i + 1, 0) if (n + 1) % cols == 0 else (i, j + 1)\n",
    "    savefig(f\"images/{file_tag}_histograms_symbolic.png\")\n",
    "    show()\n",
    "else:\n",
    "    print(\"There are no symbolic variables.\")\n"
   ]
  },
  {
   "cell_type": "code",
   "execution_count": null,
   "metadata": {},
   "outputs": [],
   "source": [
    "# class distribution\n",
    "target = \"Credit_Score\"\n",
    "\n",
    "values: Series = df[target].value_counts()\n",
    "print(values)\n",
    "\n",
    "figure(figsize=(4, 2))\n",
    "plot_bar_chart(\n",
    "    values.index.to_list(),\n",
    "    values.to_list(),\n",
    "    title=f\"Target distribution (target={target})\",\n",
    ")\n",
    "savefig(f\"images/{file_tag}_class_distribution.png\", bbox_inches = \"tight\")\n",
    "show()"
   ]
  },
  {
   "cell_type": "markdown",
   "metadata": {},
   "source": [
    "## Data Sparsity "
   ]
  },
  {
   "cell_type": "code",
   "execution_count": null,
   "metadata": {},
   "outputs": [],
   "source": [
    "# scatter-plots (all x all - including class)"
   ]
  },
  {
   "cell_type": "code",
   "execution_count": null,
   "metadata": {},
   "outputs": [],
   "source": [
    "# correlation (all x all - including class)\n",
    "variables_types: dict[str, list] = get_variable_types(df)\n",
    "symbolic: list[str] = variables_types[\"symbolic\"] + variables_types[\"binary\"]\n",
    "\n",
    "df2: DataFrame = dummify(df, symbolic)\n",
    "\n",
    "variables_types2: dict[str, list] = get_variable_types(df2)\n",
    "numeric2: list[str] = variables_types2[\"numeric\"]\n",
    "symbolic2: list[str] = variables_types2[\"symbolic\"] + variables_types2[\"binary\"]\n",
    "all_vars = numeric2 + symbolic2\n",
    "\n",
    "corr_mtx: DataFrame = df2[all_vars].corr().abs()\n",
    "\n",
    "plt.figure(figsize=(12, 12))\n",
    "heatmap(\n",
    "    abs(corr_mtx),\n",
    "    xticklabels=all_vars,\n",
    "    yticklabels=all_vars,\n",
    "    annot=False,\n",
    "    cmap=\"Blues\",\n",
    "    vmin=0,\n",
    "    vmax=1,\n",
    ")\n",
    "\n",
    "plt.xticks(fontsize=3)\n",
    "plt.yticks(fontsize=3)\n",
    "\n",
    "plt.savefig(f\"images/{file_tag}_correlation_analysis.png\", bbox_inches = \"tight\")\n",
    "plt.show()\n",
    "\n",
    "# MemoryError: Unable to allocate 107. GiB for an array with shape (143649, 100000) and data type float64"
   ]
  }
 ],
 "metadata": {
  "kernelspec": {
   "display_name": "Python 3",
   "language": "python",
   "name": "python3"
  },
  "language_info": {
   "codemirror_mode": {
    "name": "ipython",
    "version": 3
   },
   "file_extension": ".py",
   "mimetype": "text/x-python",
   "name": "python",
   "nbconvert_exporter": "python",
   "pygments_lexer": "ipython3",
   "version": "3.11.4"
  }
 },
 "nbformat": 4,
 "nbformat_minor": 2
}
